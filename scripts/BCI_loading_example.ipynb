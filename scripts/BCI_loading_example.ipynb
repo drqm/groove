{
 "cells": [
  {
   "cell_type": "code",
   "execution_count": 1,
   "metadata": {},
   "outputs": [],
   "source": [
    "#import mne\n",
    "#import fooof\n",
    "#import numpy as np\n",
    "from BCI2kReader import BCI2kReader as b2k"
   ]
  },
  {
   "cell_type": "code",
   "execution_count": null,
   "metadata": {},
   "outputs": [
    {
     "name": "stderr",
     "output_type": "stream",
     "text": [
      "WARNING: failed to interpret \"auto\" as type int in parameter \"VisualizeSourceDecimation\"\n",
      "WARNING: failed to interpret \"auto\" as type int in parameter \"VisualizeSourceBufferSize\"\n",
      "WARNING: failed to interpret \"auto\" as type int in parameter \"SourceMin\"\n",
      "WARNING: failed to interpret \"auto\" as type int in parameter \"SourceMax\"\n"
     ]
    },
    {
     "name": "stdout",
     "output_type": "stream",
     "text": [
      "2000.0\n"
     ]
    }
   ],
   "source": [
    "filename = '/home/knight/WashU/data/BerkeleyGrooveTask/SLCH002/BerkeleyGrooveTask/ECOG001/ECOGS001R01.dat'\n",
    "with b2k.BCI2kReader(filename) as test:\n",
    "    print(test.samplingrate)\n",
    "    signal = test.signals\n",
    "    states = test.states\n",
    "    params = test.parameters"
   ]
  },
  {
   "cell_type": "code",
   "execution_count": null,
   "metadata": {},
   "outputs": [],
   "source": []
  }
 ],
 "metadata": {
  "kernelspec": {
   "display_name": "Python 3 (ipykernel)",
   "language": "python",
   "name": "python3"
  },
  "language_info": {
   "codemirror_mode": {
    "name": "ipython",
    "version": 3
   },
   "file_extension": ".py",
   "mimetype": "text/x-python",
   "name": "python",
   "nbconvert_exporter": "python",
   "pygments_lexer": "ipython3",
   "version": "3.7.12"
  }
 },
 "nbformat": 4,
 "nbformat_minor": 2
}
