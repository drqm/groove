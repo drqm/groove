{
 "cells": [
  {
   "cell_type": "code",
   "execution_count": 4,
   "metadata": {},
   "outputs": [],
   "source": [
    "#import mne\n",
    "#import fooof\n",
    "#import numpy as np\n",
    "from BCI2kReader import BCI2kReader as b2k\n",
    "import numpy as np\n",
    "import pandas as pd"
   ]
  },
  {
   "cell_type": "code",
   "execution_count": 3,
   "metadata": {},
   "outputs": [
    {
     "name": "stderr",
     "output_type": "stream",
     "text": [
      "WARNING: failed to interpret \"auto\" as type int in parameter \"VisualizeSourceDecimation\"\n",
      "WARNING: failed to interpret \"auto\" as type int in parameter \"VisualizeSourceBufferSize\"\n",
      "WARNING: failed to interpret \"auto\" as type int in parameter \"SourceMin\"\n",
      "WARNING: failed to interpret \"auto\" as type int in parameter \"SourceMax\"\n"
     ]
    }
   ],
   "source": [
    "#filename = '/home/knight/WashU/data/BerkeleyGrooveTask/SLCH002/BerkeleyGrooveTask/ECOG001/ECOGS001R01.dat'\n",
    "filename = '/home/knight/WashU/data/BerkeleyGrooveTask/BJH017/BerkeleyGrooveTask/ECOG001/ECOGS001R01.dat'\n",
    "with b2k.BCI2kReader(filename) as test:\n",
    "    ch_names = test.parameters['ChannelNames']\n",
    "#     key_press = test.states['KeyDown']\n",
    "#     triggers = test.states['StimulusCode']\n",
    "#     #time = test.states['StimulusTime']\n",
    "#     srate = test.parameters['SamplingRate']\n",
    "    #signal = test.signals\n",
    "#     state test.states:\n",
    "#         print(s)\n",
    "    #params = test.parameters"
   ]
  },
  {
   "cell_type": "code",
   "execution_count": 6,
   "metadata": {},
   "outputs": [
    {
     "name": "stdout",
     "output_type": "stream",
     "text": [
      "        name\n",
      "0      EMPTY\n",
      "1    EMPTY_2\n",
      "2    EMPTY_3\n",
      "3    EMPTY_4\n",
      "4       REF1\n",
      "..       ...\n",
      "267     DC12\n",
      "268     DC13\n",
      "269     DC14\n",
      "270     DC15\n",
      "271     DC16\n",
      "\n",
      "[272 rows x 1 columns]\n"
     ]
    }
   ],
   "source": [
    "ch_df = pd.DataFrame({'name': ch_names})\n",
    "print(ch_df)"
   ]
  },
  {
   "cell_type": "code",
   "execution_count": 12,
   "metadata": {},
   "outputs": [
    {
     "data": {
      "text/html": [
       "<div>\n",
       "<style scoped>\n",
       "    .dataframe tbody tr th:only-of-type {\n",
       "        vertical-align: middle;\n",
       "    }\n",
       "\n",
       "    .dataframe tbody tr th {\n",
       "        vertical-align: top;\n",
       "    }\n",
       "\n",
       "    .dataframe thead th {\n",
       "        text-align: right;\n",
       "    }\n",
       "</style>\n",
       "<table border=\"1\" class=\"dataframe\">\n",
       "  <thead>\n",
       "    <tr style=\"text-align: right;\">\n",
       "      <th></th>\n",
       "      <th>name</th>\n",
       "      <th>type</th>\n",
       "    </tr>\n",
       "  </thead>\n",
       "  <tbody>\n",
       "    <tr>\n",
       "      <th>0</th>\n",
       "      <td>EMPTY</td>\n",
       "      <td>misc</td>\n",
       "    </tr>\n",
       "    <tr>\n",
       "      <th>1</th>\n",
       "      <td>EMPTY_2</td>\n",
       "      <td>misc</td>\n",
       "    </tr>\n",
       "    <tr>\n",
       "      <th>2</th>\n",
       "      <td>EMPTY_3</td>\n",
       "      <td>misc</td>\n",
       "    </tr>\n",
       "    <tr>\n",
       "      <th>3</th>\n",
       "      <td>EMPTY_4</td>\n",
       "      <td>misc</td>\n",
       "    </tr>\n",
       "    <tr>\n",
       "      <th>4</th>\n",
       "      <td>REF1</td>\n",
       "      <td>eeg</td>\n",
       "    </tr>\n",
       "    <tr>\n",
       "      <th>...</th>\n",
       "      <td>...</td>\n",
       "      <td>...</td>\n",
       "    </tr>\n",
       "    <tr>\n",
       "      <th>267</th>\n",
       "      <td>DC12</td>\n",
       "      <td>misc</td>\n",
       "    </tr>\n",
       "    <tr>\n",
       "      <th>268</th>\n",
       "      <td>DC13</td>\n",
       "      <td>misc</td>\n",
       "    </tr>\n",
       "    <tr>\n",
       "      <th>269</th>\n",
       "      <td>DC14</td>\n",
       "      <td>misc</td>\n",
       "    </tr>\n",
       "    <tr>\n",
       "      <th>270</th>\n",
       "      <td>DC15</td>\n",
       "      <td>misc</td>\n",
       "    </tr>\n",
       "    <tr>\n",
       "      <th>271</th>\n",
       "      <td>DC16</td>\n",
       "      <td>misc</td>\n",
       "    </tr>\n",
       "  </tbody>\n",
       "</table>\n",
       "<p>272 rows × 2 columns</p>\n",
       "</div>"
      ],
      "text/plain": [
       "        name  type\n",
       "0      EMPTY  misc\n",
       "1    EMPTY_2  misc\n",
       "2    EMPTY_3  misc\n",
       "3    EMPTY_4  misc\n",
       "4       REF1   eeg\n",
       "..       ...   ...\n",
       "267     DC12  misc\n",
       "268     DC13  misc\n",
       "269     DC14  misc\n",
       "270     DC15  misc\n",
       "271     DC16  misc\n",
       "\n",
       "[272 rows x 2 columns]"
      ]
     },
     "execution_count": 12,
     "metadata": {},
     "output_type": "execute_result"
    }
   ],
   "source": [
    "ch_dir = '/home/knight/groove/misc/ch_info/BJH017/channel_types.tsv'\n",
    "pd.read_csv(ch_dir, sep='\\t')"
   ]
  },
  {
   "cell_type": "code",
   "execution_count": 110,
   "metadata": {},
   "outputs": [
    {
     "name": "stdout",
     "output_type": "stream",
     "text": [
      "(1, 1894000)\n",
      "(1, 1894000)\n",
      "(1, 1438400)\n"
     ]
    }
   ],
   "source": [
    "print(key_press.shape)\n",
    "print(triggers.shape)\n",
    "print(time.shape)"
   ]
  },
  {
   "cell_type": "code",
   "execution_count": 116,
   "metadata": {},
   "outputs": [
    {
     "name": "stdout",
     "output_type": "stream",
     "text": [
      "found the following unique codes:\n",
      "\n",
      "[ 3  4  5  6  7  8  9 10 11 12 13 14 15 16 17 18 19 20 21 22 23 24 25 26\n",
      " 27 28 29 30 31 32 33 34 35 36 37 38 39 40 41 42 43 44 45 46 47 48 49 50\n",
      " 51 52 53 54 55 56 57 58 59 60 61 62 63 64 65 66 67 68 69 70 71 72 73 74\n",
      " 75 76 77 78 79 80 81 82 83 84]\n",
      "\n",
      "selecting events: [1, 2, 3, 4, 5, 6, 7, 8, 9, 10, 11, 12, 13, 14, 15, 16, 17, 18, 19, 20, 21, 22, 23, 24, 25, 26, 27, 29, 31]\n",
      "found 50 matching events\n",
      "[29 31  3  4 24 12 26 22 15  5 20 17 14 11 17 24 18 23  7 23  5 10  6 15\n",
      " 22 27 26 10 13 27 19 20 25 16  8  8 18 14 25  7 11 12 21 13 21  6  9 19\n",
      " 16  9] [ 19.3995  24.4995  35.4995  53.4995  76.2995  94.2995 112.2995 130.2995\n",
      " 166.2995 184.2995 202.2995 220.2995 238.2995 256.2995 274.2995 292.2995\n",
      " 310.2995 328.2995 346.2995 364.2995 382.2995 400.2995 418.2995 436.2995\n",
      " 454.2995 472.2995 490.2995 544.8995 562.8995 580.8995 598.8995 616.8995\n",
      " 634.8995 652.8995 670.8995 688.8995 724.8995 742.8995 760.8995 778.8995\n",
      " 796.8995 814.8995 832.8995 850.8995 868.8995 886.8995 904.8995 922.8995\n",
      " 940.8995 958.8995]\n"
     ]
    }
   ],
   "source": [
    "def get_events(sig, srate, selection=[]):\n",
    "    x = np.squeeze(sig)\n",
    "    oix = np.where(np.diff(x)!=0)[0]\n",
    "    oix = np.array([o for o in oix if x[o] != 0])\n",
    "    events = x[oix]\n",
    "    times = oix / srate\n",
    "    print('found the following unique codes:\\n')\n",
    "    print(np.unique(events))\n",
    "    print('\\nselecting events: {}'.format(selection))\n",
    "    if any(selection):\n",
    "        six = [e in selection for e in events]\n",
    "        events = events[six]\n",
    "        times = times[six]\n",
    "    print('found {} matching events'.format(events.shape[0]))\n",
    "    return events, times\n",
    "events, times = get_events(triggers, srate = srate, selection = list(range(1,28))+[29,31])    \n",
    "print(events,times)"
   ]
  },
  {
   "cell_type": "code",
   "execution_count": 2,
   "metadata": {},
   "outputs": [
    {
     "ename": "NameError",
     "evalue": "name 'filename' is not defined",
     "output_type": "error",
     "traceback": [
      "\u001b[0;31m---------------------------------------------------------------------------\u001b[0m",
      "\u001b[0;31mNameError\u001b[0m                                 Traceback (most recent call last)",
      "\u001b[0;32m/tmp/ipykernel_778934/2433461905.py\u001b[0m in \u001b[0;36m<cell line: 1>\u001b[0;34m()\u001b[0m\n\u001b[0;32m----> 1\u001b[0;31m \u001b[0;32mwith\u001b[0m \u001b[0mb2k\u001b[0m\u001b[0;34m.\u001b[0m\u001b[0mBCI2kReader\u001b[0m\u001b[0;34m(\u001b[0m\u001b[0mfilename\u001b[0m\u001b[0;34m)\u001b[0m \u001b[0;32mas\u001b[0m \u001b[0mtest\u001b[0m\u001b[0;34m:\u001b[0m\u001b[0;34m\u001b[0m\u001b[0;34m\u001b[0m\u001b[0m\n\u001b[0m\u001b[1;32m      2\u001b[0m     \u001b[0mparams\u001b[0m \u001b[0;34m=\u001b[0m \u001b[0mtest\u001b[0m\u001b[0;34m.\u001b[0m\u001b[0mparameters\u001b[0m\u001b[0;34m\u001b[0m\u001b[0;34m\u001b[0m\u001b[0m\n",
      "\u001b[0;31mNameError\u001b[0m: name 'filename' is not defined"
     ]
    }
   ],
   "source": [
    "with b2k.BCI2kReader(filename) as test:\n",
    "    params = test.parameters"
   ]
  },
  {
   "cell_type": "code",
   "execution_count": 118,
   "metadata": {},
   "outputs": [
    {
     "name": "stdout",
     "output_type": "stream",
     "text": [
      "SourceCh:  272\n",
      "SampleBlockSize:  200\n",
      "SamplingRate:  2000\n",
      "ChannelNames:  ['EMPTY', 'EMPTY_2', 'EMPTY_3', 'EMPTY_4', 'REF1', 'REF2', 'AR1', 'AR2', 'AR3', 'AR4', 'AR5', 'AR6', 'AR7', 'AR8', 'AR9', 'AR10', 'AR11', 'AR12', 'AR13', 'AR14', 'BR1', 'BR2', 'BR3', 'BR4', 'BR5', 'BR6', 'BR7', 'BR8', 'BR9', 'BR10', 'BR11', 'BR12', 'BR13', 'BR14', 'BR15', 'BR16', 'CR1', 'CR2', 'CR3', 'CR4', 'CR5', 'CR6', 'CR7', 'CR8', 'CR9', 'CR10', 'CR11', 'CR12', 'CR13', 'CR14', 'CR15', 'CR16', 'DR1', 'DR2', 'DR3', 'DR4', 'DR5', 'DR6', 'DR7', 'DR8', 'DR9', 'DR10', 'DR11', 'DR12', 'DR13', 'DR14', 'ER1', 'ER2', 'ER3', 'ER4', 'ER5', 'ER6', 'ER7', 'ER8', 'ER9', 'ER10', 'ER11', 'ER12', 'FR1', 'FR2', 'FR3', 'FR4', 'FR5', 'FR6', 'FR7', 'FR8', 'FR9', 'FR10', 'FR11', 'FR12', 'GR1', 'GR2', 'GR3', 'GR4', 'GR5', 'GR6', 'GR7', 'GR8', 'GR9', 'GR10', 'GR11', 'GR12', 'GR13', 'GR14', 'HR1', 'HR2', 'HR3', 'HR4', 'HR5', 'HR6', 'HR7', 'HR8', 'HR9', 'HR10', 'HR11', 'HR12', 'HR13', 'HR14', 'IR1', 'IR2', 'IR3', 'IR4', 'IR5', 'IR6', 'IR7', 'IR8', 'IR9', 'IR10', 'IR11', 'IR12', 'IR13', 'IR14', 'IR15', 'IR16', 'JR1', 'JR2', 'JR3', 'JR4', 'JR5', 'JR6', 'JR7', 'JR8', 'JR9', 'JR10', 'KR1', 'KR2', 'KR3', 'KR4', 'KR5', 'KR6', 'KR7', 'KR8', 'KR9', 'KR10', 'KR11', 'KR12', 'KR13', 'KR14', 'KR15', 'KR16', 'LR1', 'LR2', 'LR3', 'LR4', 'LR5', 'LR6', 'LR7', 'LR8', 'LR9', 'LR10', 'LR11', 'LR12', 'LR13', 'LR14', 'LR15', 'LR16', 'MR1', 'MR2', 'MR3', 'MR4', 'MR5', 'MR6', 'MR7', 'MR8', 'MR9', 'MR10', 'MR11', 'MR12', 'MR13', 'MR14', 'MR15', 'MR16', 'NR1', 'NR2', 'NR3', 'NR4', 'NR5', 'NR6', 'NR7', 'NR8', 'NR9', 'NR10', 'NR11', 'NR12', 'NR13', 'NR14', 'NR15', 'NR16', 'OL1', 'OL2', 'OL3', 'OL4', 'OL5', 'OL6', 'OL7', 'OL8', 'OL9', 'OL10', 'OL11', 'OL12', 'OL13', 'OL14', 'OL15', 'OL16', 'EMPTY_225', 'EMPTY_226', 'EMPTY_227', 'EMPTY_228', 'EMPTY_229', 'EMPTY_230', 'EMPTY_231', 'FP1', 'F3', 'C3', 'P3', 'O1', 'FP2', 'F4', 'C4', 'P4', 'O2', 'F7', 'T7', 'P7', 'F8', 'T8', 'P8', 'F9', 'F10', 'FPZ', 'FZ', 'CZ', 'PZ', 'OZ', 'EKG1', 'EKG2', 'DC01', 'DC02', 'DC03', 'DC04', 'DC05', 'DC06', 'DC07', 'DC08', 'DC09', 'DC10', 'DC11', 'DC12', 'DC13', 'DC14', 'DC15', 'DC16']\n",
      "SourceChOffset:  ['0', '0', '0', '0', '0', '0', '0', '0', '0', '0', '0', '0', '0', '0', '0', '0', '0', '0', '0', '0', '0', '0', '0', '0', '0', '0', '0', '0', '0', '0', '0', '0', '0', '0', '0', '0', '0', '0', '0', '0', '0', '0', '0', '0', '0', '0', '0', '0', '0', '0', '0', '0', '0', '0', '0', '0', '0', '0', '0', '0', '0', '0', '0', '0', '0', '0', '0', '0', '0', '0', '0', '0', '0', '0', '0', '0', '0', '0', '0', '0', '0', '0', '0', '0', '0', '0', '0', '0', '0', '0', '0', '0', '0', '0', '0', '0', '0', '0', '0', '0', '0', '0', '0', '0', '0', '0', '0', '0', '0', '0', '0', '0', '0', '0', '0', '0', '0', '0', '0', '0', '0', '0', '0', '0', '0', '0', '0', '0', '0', '0', '0', '0', '0', '0', '0', '0', '0', '0', '0', '0', '0', '0', '0', '0', '0', '0', '0', '0', '0', '0', '0', '0', '0', '0', '0', '0', '0', '0', '0', '0', '0', '0', '0', '0', '0', '0', '0', '0', '0', '0', '0', '0', '0', '0', '0', '0', '0', '0', '0', '0', '0', '0', '0', '0', '0', '0', '0', '0', '0', '0', '0', '0', '0', '0', '0', '0', '0', '0', '0', '0', '0', '0', '0', '0', '0', '0', '0', '0', '0', '0', '0', '0', '0', '0', '0', '0', '0', '0', '0', '0', '0', '0', '0', '0', '0', '0', '0', '0', '0', '0', '0', '0', '0', '0', '0', '0', '0', '0', '0', '0', '0', '0', '0', '0', '0', '0', '0', '0', '0', '0', '0', '0', '0', '0', '0', '0', '0', '0', '0', '0', '0', '0', '0', '0', '0', '0', '0', '0', '0', '0', '0', '0']\n",
      "SourceChGain:  ['1', '1', '1', '1', '1', '1', '1', '1', '1', '1', '1', '1', '1', '1', '1', '1', '1', '1', '1', '1', '1', '1', '1', '1', '1', '1', '1', '1', '1', '1', '1', '1', '1', '1', '1', '1', '1', '1', '1', '1', '1', '1', '1', '1', '1', '1', '1', '1', '1', '1', '1', '1', '1', '1', '1', '1', '1', '1', '1', '1', '1', '1', '1', '1', '1', '1', '1', '1', '1', '1', '1', '1', '1', '1', '1', '1', '1', '1', '1', '1', '1', '1', '1', '1', '1', '1', '1', '1', '1', '1', '1', '1', '1', '1', '1', '1', '1', '1', '1', '1', '1', '1', '1', '1', '1', '1', '1', '1', '1', '1', '1', '1', '1', '1', '1', '1', '1', '1', '1', '1', '1', '1', '1', '1', '1', '1', '1', '1', '1', '1', '1', '1', '1', '1', '1', '1', '1', '1', '1', '1', '1', '1', '1', '1', '1', '1', '1', '1', '1', '1', '1', '1', '1', '1', '1', '1', '1', '1', '1', '1', '1', '1', '1', '1', '1', '1', '1', '1', '1', '1', '1', '1', '1', '1', '1', '1', '1', '1', '1', '1', '1', '1', '1', '1', '1', '1', '1', '1', '1', '1', '1', '1', '1', '1', '1', '1', '1', '1', '1', '1', '1', '1', '1', '1', '1', '1', '1', '1', '1', '1', '1', '1', '1', '1', '1', '1', '1', '1', '1', '1', '1', '1', '1', '1', '1', '1', '1', '1', '1', '1', '1', '1', '1', '1', '1', '1', '1', '1', '1', '1', '1', '1', '1', '1', '1', '1', '1', '1', '1', '1', '1', '1', '1', '1', '1', '1', '1', '1', '1', '1', '1', '1', '1', '1', '1', '1', '1', '1', '1', '1', '1', '1']\n",
      "DataDirectory:  ..\\data\\AMC\\BerkeleyGrooveTask\n",
      "SubjectName:  ECOG\n",
      "SubjectSession:  001\n",
      "SubjectRun:  02\n",
      "ID_System:  \n",
      "ID_Amp:  \n",
      "ID_Montage:  \n",
      "VisualizeTiming:  1\n",
      "VisualizeSource:  1\n",
      "VisualizeSourceDecimation:  None\n",
      "VisualizeSourceBufferSize:  None\n",
      "VisualizeSourceTime:  8000\n",
      "SourceMin:  None\n",
      "SourceMax:  None\n",
      "SourceBufferSize:  2000\n",
      "FileFormat:  dat\n",
      "StorageTime:  2022-02-12T15:28:20\n",
      "AlignChannels:  1\n",
      "SourceChTimeOffset:  []\n",
      "VisualizeAlignmentFilter:  0\n",
      "VisualizeAudioInputFilter:  0\n",
      "TransmitChList:  ['1']\n",
      "VisualizeTransmissionFilter:  0\n",
      "DataFile:  ${SubjectName}${SubjectSession}/${SubjectName}S${SubjectSession}R${SubjectRun}.${FileFormat}\n",
      "EnableAudioExtension:  1\n",
      "AudioInputDevice:  -1\n",
      "AudioOutputDevice:  -1\n",
      "AudioInputFile:  \n",
      "AudioRecordInput:  1\n",
      "AudioRecordOutput:  \n",
      "AudioMixer:  [['0', '0'], ['0', '0']]\n",
      "AudioRecordingFormat:  0\n",
      "AudioInputFilterbank:  []\n",
      "AudioOutputFilterbank:  []\n",
      "AudioEnvelopeSmoothing:  20.0\n",
      "LogKeyboard:  1\n",
      "EventLink:  1\n",
      "OperatorAddress:  127.0.0.1:4002\n",
      "/ModuleName:  SignalSource\n",
      "/ListeningAddress:  127.0.0.1:62506\n",
      "OperatorIP:  127.0.0.1\n",
      "SignalSourceVersion:  [['3.6'], ['N/A, N/A'], ['MSVC-19.29.30137.0-AMD64, release, 2022-02-10Z, Peter@DESKTOP-HLJS49V'], ['USE_DYNAMIC_CRT:TRUE USE_OPENMP:ON USE_PRECOMPILED_HEADERS:ON USE_ASSERTS_IN_RELEASE_BUILDS:OFF'], ['2.3']]\n",
      "SignalSourceFilterChain:  [['DataIOFilter', '0'], ['NihonKohdenADC', '1'], ['NullFileWriter', '1'], ['BCI2000FileWriter', '1'], ['EDFFileWriter', '1'], ['GDFFileWriter', '1'], ['AlignmentFilter', '1.1'], ['AudioInputFilter', '1.15'], ['TransmissionFilter', '1.2']]\n",
      "Filters:  [['/1/DataIOFilter'], ['/1/BufferedADC'], ['/1/BCI2000FileWriter'], ['/1/AlignmentFilter'], ['/1/AudioInputFilter'], ['/1/TransmissionFilter'], ['/2/ExpressionFilter'], ['/3/ConnectorInput'], ['/3/ApplicationBase_2'], ['/3/KeystrokeFilter'], ['/3/ConnectorOutput'], ['/3/ApplicationBase'], ['/3/CereStim']]\n",
      "VisPropertySets:  []\n",
      "OperatorVersion:  [['3.6'], ['N/A, N/A'], ['MSVC-19.29.30137.0-AMD64, release, 2022-02-11Z, Peter@DESKTOP-HLJS49V'], ['USE_DYNAMIC_CRT:TRUE USE_OPENMP:ON USE_PRECOMPILED_HEADERS:ON USE_ASSERTS_IN_RELEASE_BUILDS:OFF'], ['2.3']]\n",
      "AutoConfig:  1\n",
      "OperatorBackLink:  1\n",
      "SignalSourceIP:  127.0.0.1\n",
      "SignalSourcePort:  62506\n",
      "StartRunExpression:  \n",
      "StopRunExpression:  \n",
      "Expressions:  [['']]\n",
      "VisualizeExpressionFilter:  0\n",
      "SignalProcessingIP:  127.0.0.1\n",
      "SignalProcessingPort:  62543\n",
      "SignalProcessingVersion:  [['3.6'], ['N/A, N/A'], ['MSVC-19.29.30137.0-AMD64, release, 2022-02-07Z, Peter@DESKTOP-HLJS49V'], ['USE_DYNAMIC_CRT:TRUE USE_OPENMP:ON USE_PRECOMPILED_HEADERS:ON USE_ASSERTS_IN_RELEASE_BUILDS:OFF'], ['2.3']]\n",
      "SignalProcessingFilterChain:  [['ExpressionFilter', '2.D2']]\n",
      "ConnectorInputFilter:  []\n",
      "ConnectorInputAddress:  \n",
      "WindowWidth:  2560\n",
      "WindowHeight:  1440\n",
      "WindowLeft:  3840\n",
      "WindowTop:  0\n",
      "WindowBackgroundColor:  0x000000\n",
      "WindowInfo:  [['NVIDIA Corporation'], ['GeForce RTX 3070/PCIe/SSE2'], ['4.6'], ['596.767mm'], ['335.767mm'], ['0mm'], ['0mm'], ['597mm'], ['336mm']]\n",
      "VisualizeApplicationWindow:  1\n",
      "AppWindowSpatialDecimation:  4\n",
      "AppWindowTemporalDecimation:  4\n",
      "AudioPlaybackOn:  1\n",
      "AudioPlaybackRate:  48000.0\n",
      "AudioPlaybackChannels:  2\n",
      "AudioPlaybackBufferDuration:  10.0\n",
      "ApplicationBase_2/ShowAppLog:  1\n",
      "PreRunDuration:  10000.0\n",
      "PostRunDuration:  10000.0\n",
      "PreSequenceDuration:  0.0\n",
      "PostSequenceDuration:  0.0\n",
      "StimulusDuration:  0.0\n",
      "EarlyOffsetExpression:  \n",
      "ISIMinDuration:  0.0\n",
      "ISIMaxDuration:  0.0\n",
      "InterpretMode:  0\n",
      "DisplayResults:  1\n",
      "AccumulateEvidence:  0\n",
      "MinimumEvidence:  0.0\n",
      "Sequence:  (29, 36, 31, 33, 3, 30, 33, 4, 30, 32, 37, 24, 30, 38, 12, 30, 39, 26, 30, 40, 22, 30, 41, 28, 30, 42, 15, 30, 43, 5, 30, 44, 20, 30, 45, 17, 30, 46, 14, 30, 47, 11, 30, 48, 17, 30, 49, 24, 30, 50, 18, 30, 51, 23, 30, 52, 7, 30, 53, 23, 30, 54, 5, 30, 55, 10, 30, 56, 6, 30, 57, 15, 30, 58, 22, 30, 59, 27, 30, 60, 26, 30, 34, 61, 10, 30, 62, 13, 30, 63, 27, 30, 64, 19, 30, 65, 20, 30, 66, 25, 30, 67, 16, 30, 68, 8, 30, 69, 8, 30, 70, 28, 30, 71, 18, 30, 72, 14, 30, 73, 25, 30, 74, 7, 30, 75, 11, 30, 76, 12, 30, 77, 21, 30, 78, 13, 30, 79, 21, 30, 80, 6, 30, 81, 9, 30, 82, 19, 30, 83, 16, 30, 84, 9, 30, 35)\n",
      "SequenceType:  0\n",
      "NumberOfSequences:  1\n",
      "ToBeCopied:  (1, 2, 3)\n",
      "UserComment:  MIT Groove task block 1 2\n",
      "Stimuli:  [['LR7 LH4', 'HR7 HH6', 'Mariato Clave MR5 MH1', 'LR7 MH4', 'Son Clave MR1 MH2', 'Son Clave MR1 MH4', 'Rumba Clave MR2 MH2', 'Rumba Clave MR2 MH4', 'Mariato Clave MR5 MH2', 'Mariato Clave MR5 MH4', 'Son Clave MR1 HH3', 'Son Clave MR1 HH5', 'Rumba Clave MR2 HH3', 'Rumba Clave MR2 HH5', 'Mariato Clave MR5 HH3', 'Mariato Clave MR5 HH5', 'HR1 MH2', 'HR1 MH4', 'HR3 MH2', 'HR3 MH4', 'HR7 MH2', 'HR7 MH4', 'HR1 HH3', 'HR1 HH5', 'HR3 HH3', 'HR3 HH5', 'HR7 HH3', 'HR7 HH5', 'instructions2', 'question2', 'practice_start', 'practice_end', 'fixation', 'break', 'block_end', 'black_screen', 'trial 1', 'trial 2', 'trial 3', 'trial 4', 'trial 5', 'trial 6', 'trial 7', 'trial 8', 'trial 9', 'trial 10', 'trial 11', 'trial 12', 'trial 13', 'trial 14', 'trial 15', 'trial 16', 'trial 17', 'trial 18', 'trial 19', 'trial 20', 'trial 21', 'trial 22', 'trial 23', 'trial 24', 'trial 25', 'trial 26', 'trial 27', 'trial 28', 'trial 29', 'trial 30', 'trial 31', 'trial 32', 'trial 33', 'trial 34', 'trial 35', 'trial 36', 'trial 37', 'trial 38', 'trial 39', 'trial 40', 'trial 41', 'trial 42', 'trial 43', 'trial 44', 'trial 45', 'trial 46', 'trial 47', 'trial 48'], ['../tasks/berkeley_groove_task/fixation.png', '../tasks/berkeley_groove_task/fixation.png', '../tasks/berkeley_groove_task/fixation.png', '../tasks/berkeley_groove_task/fixation.png', '../tasks/berkeley_groove_task/fixation.png', '../tasks/berkeley_groove_task/fixation.png', '../tasks/berkeley_groove_task/fixation.png', '../tasks/berkeley_groove_task/fixation.png', '../tasks/berkeley_groove_task/fixation.png', '../tasks/berkeley_groove_task/fixation.png', '../tasks/berkeley_groove_task/fixation.png', '../tasks/berkeley_groove_task/fixation.png', '../tasks/berkeley_groove_task/fixation.png', '../tasks/berkeley_groove_task/fixation.png', '../tasks/berkeley_groove_task/fixation.png', '../tasks/berkeley_groove_task/fixation.png', '../tasks/berkeley_groove_task/fixation.png', '../tasks/berkeley_groove_task/fixation.png', '../tasks/berkeley_groove_task/fixation.png', '../tasks/berkeley_groove_task/fixation.png', '../tasks/berkeley_groove_task/fixation.png', '../tasks/berkeley_groove_task/fixation.png', '../tasks/berkeley_groove_task/fixation.png', '../tasks/berkeley_groove_task/fixation.png', '../tasks/berkeley_groove_task/fixation.png', '../tasks/berkeley_groove_task/fixation.png', '../tasks/berkeley_groove_task/fixation.png', '../tasks/berkeley_groove_task/fixation.png', '../tasks/berkeley_groove_task/instructions2.png', '../tasks/berkeley_groove_task/question2.png', '../tasks/berkeley_groove_task/practice_start.png', '../tasks/berkeley_groove_task/practice_end.png', '../tasks/berkeley_groove_task/fixation.png', '../tasks/berkeley_groove_task/break.png', '../tasks/berkeley_groove_task/block_end.png', '../tasks/berkeley_groove_task/black_screen.png', '../tasks/berkeley_groove_task/1.png', '../tasks/berkeley_groove_task/2.png', '../tasks/berkeley_groove_task/3.png', '../tasks/berkeley_groove_task/4.png', '../tasks/berkeley_groove_task/5.png', '../tasks/berkeley_groove_task/6.png', '../tasks/berkeley_groove_task/7.png', '../tasks/berkeley_groove_task/8.png', '../tasks/berkeley_groove_task/9.png', '../tasks/berkeley_groove_task/10.png', '../tasks/berkeley_groove_task/11.png', '../tasks/berkeley_groove_task/12.png', '../tasks/berkeley_groove_task/13.png', '../tasks/berkeley_groove_task/14.png', '../tasks/berkeley_groove_task/15.png', '../tasks/berkeley_groove_task/16.png', '../tasks/berkeley_groove_task/17.png', '../tasks/berkeley_groove_task/18.png', '../tasks/berkeley_groove_task/19.png', '../tasks/berkeley_groove_task/20.png', '../tasks/berkeley_groove_task/21.png', '../tasks/berkeley_groove_task/22.png', '../tasks/berkeley_groove_task/23.png', '../tasks/berkeley_groove_task/24.png', '../tasks/berkeley_groove_task/25.png', '../tasks/berkeley_groove_task/26.png', '../tasks/berkeley_groove_task/27.png', '../tasks/berkeley_groove_task/28.png', '../tasks/berkeley_groove_task/29.png', '../tasks/berkeley_groove_task/30.png', '../tasks/berkeley_groove_task/31.png', '../tasks/berkeley_groove_task/32.png', '../tasks/berkeley_groove_task/33.png', '../tasks/berkeley_groove_task/34.png', '../tasks/berkeley_groove_task/35.png', '../tasks/berkeley_groove_task/36.png', '../tasks/berkeley_groove_task/37.png', '../tasks/berkeley_groove_task/38.png', '../tasks/berkeley_groove_task/39.png', '../tasks/berkeley_groove_task/40.png', '../tasks/berkeley_groove_task/41.png', '../tasks/berkeley_groove_task/42.png', '../tasks/berkeley_groove_task/43.png', '../tasks/berkeley_groove_task/44.png', '../tasks/berkeley_groove_task/45.png', '../tasks/berkeley_groove_task/46.png', '../tasks/berkeley_groove_task/47.png', '../tasks/berkeley_groove_task/48.png'], ['../tasks/berkeley_groove_task/21.wav', '../tasks/berkeley_groove_task/81.wav', '../tasks/berkeley_groove_task/49.wav', '../tasks/berkeley_groove_task/24.wav', '../tasks/berkeley_groove_task/32.wav', '../tasks/berkeley_groove_task/33.wav', '../tasks/berkeley_groove_task/41.wav', '../tasks/berkeley_groove_task/42.wav', '../tasks/berkeley_groove_task/50.wav', '../tasks/berkeley_groove_task/51.wav', '../tasks/berkeley_groove_task/34.wav', '../tasks/berkeley_groove_task/35.wav', '../tasks/berkeley_groove_task/43.wav', '../tasks/berkeley_groove_task/44.wav', '../tasks/berkeley_groove_task/52.wav', '../tasks/berkeley_groove_task/53.wav', '../tasks/berkeley_groove_task/59.wav', '../tasks/berkeley_groove_task/60.wav', '../tasks/berkeley_groove_task/68.wav', '../tasks/berkeley_groove_task/69.wav', '../tasks/berkeley_groove_task/77.wav', '../tasks/berkeley_groove_task/78.wav', '../tasks/berkeley_groove_task/61.wav', '../tasks/berkeley_groove_task/62.wav', '../tasks/berkeley_groove_task/70.wav', '../tasks/berkeley_groove_task/71.wav', '../tasks/berkeley_groove_task/79.wav', '../tasks/berkeley_groove_task/80.wav', '', '', '', '', '', '', '', '', '', '', '', '', '', '', '', '', '', '', '', '', '', '', '', '', '', '', '', '', '', '', '', '', '', '', '', '', '', '', '', '', '', '', '', '', '', '', '', '', '', '', '', '', '', '', '', ''], ['10000ms', '10000ms', '10000ms', '10000ms', '10000ms', '10000ms', '10000ms', '10000ms', '10000ms', '10000ms', '10000ms', '10000ms', '10000ms', '10000ms', '10000ms', '10000ms', '10000ms', '10000ms', '10000ms', '10000ms', '10000ms', '10000ms', '10000ms', '10000ms', '10000ms', '10000ms', '10000ms', '10000ms', '3600000ms', '7000ms', '3600000ms', '3600000ms', '1000ms', '3600000ms', '3000ms', '500ms', '1000ms', '1000ms', '1000ms', '1000ms', '1000ms', '1000ms', '1000ms', '1000ms', '1000ms', '1000ms', '1000ms', '1000ms', '1000ms', '1000ms', '1000ms', '1000ms', '1000ms', '1000ms', '1000ms', '1000ms', '1000ms', '1000ms', '1000ms', '1000ms', '1000ms', '1000ms', '1000ms', '1000ms', '1000ms', '1000ms', '1000ms', '1000ms', '1000ms', '1000ms', '1000ms', '1000ms', '1000ms', '1000ms', '1000ms', '1000ms', '1000ms', '1000ms', '1000ms', '1000ms', '1000ms', '1000ms', '1000ms', '1000ms'], ['100', '100', '100', '100', '100', '100', '100', '100', '100', '100', '100', '100', '100', '100', '100', '100', '100', '100', '100', '100', '100', '100', '100', '100', '100', '100', '100', '100', '', '', '', '', '', '', '', '', '', '', '', '', '', '', '', '', '', '', '', '', '', '', '', '', '', '', '', '', '', '', '', '', '', '', '', '', '', '', '', '', '', '', '', '', '', '', '', '', '', '', '', '', '', '', '', ''], ['', '', '', '', '', '', '', '', '', '', '', '', '', '', '', '', '', '', '', '', '', '', '', '', '', '', '', '', 'KeyDown==32', 'KeyDown==49 || KeyDown==50 || KeyDown==51 || KeyDown==52 || KeyDown==53', 'KeyDown==32', 'KeyDown==32', '', 'KeyDown==32', '', '', '', '', '', '', '', '', '', '', '', '', '', '', '', '', '', '', '', '', '', '', '', '', '', '', '', '', '', '', '', '', '', '', '', '', '', '', '', '', '', '', '', '', '', '', '', '', '', ''], ['', '', '', '', '', '', '', '', '', '', '', '', '', '', '', '', '', '', '', '', '', '', '', '', '', '', '', '', '0xFF0000', '0xFF0000', '0xFF0000', '0xFF0000', '0xFF0000', '0xFF0000', '0xFF0000', '0xFF0000', '0xFF0000', '0xFF0000', '0xFF0000', '0xFF0000', '0xFF0000', '0xFF0000', '0xFF0000', '0xFF0000', '0xFF0000', '0xFF0000', '0xFF0000', '0xFF0000', '0xFF0000', '0xFF0000', '0xFF0000', '0xFF0000', '0xFF0000', '0xFF0000', '0xFF0000', '0xFF0000', '0xFF0000', '0xFF0000', '0xFF0000', '0xFF0000', '0xFF0000', '0xFF0000', '0xFF0000', '0xFF0000', '0xFF0000', '0xFF0000', '0xFF0000', '0xFF0000', '0xFF0000', '0xFF0000', '0xFF0000', '0xFF0000', '0xFF0000', '0xFF0000', '0xFF0000', '0xFF0000', '0xFF0000', '0xFF0000', '0xFF0000', '0xFF0000', '0xFF0000', '0xFF0000', '0xFF0000', '0xFF0000']]\n",
      "FocusOn:  [['Please focus on'], ['images\\\\focuson.bmp'], ['sounds\\\\uh-uh.wav']]\n",
      "Result:  [['The result was'], ['images\\\\result.bmp'], ['sounds\\\\uh-uh.wav']]\n",
      "StimulusWidth:  0\n",
      "CaptionHeight:  6\n",
      "CaptionColor:  0x000000\n",
      "BackgroundColor:  0xFFFFFF\n",
      "CaptionSwitch:  0\n",
      "IconSwitch:  1\n",
      "AVSwitch:  0\n",
      "AudioVolume:  100.0\n",
      "AVPlayToEnd:  1\n",
      "AudioSwitch:  1\n",
      "TestAllStimuli:  0\n",
      "ProgressBar:  1\n",
      "ProgressBarHeight:  50.0\n",
      "ProgressBarWidth:  1000.0\n",
      "ProgressBarBackgroundColor:  0x00808080\n",
      "ProgressBarForegroundColor:  0x00ffff00\n",
      "PhotoDiodePatch:  0\n",
      "PhotoDiodePatchHeight:  0.13\n",
      "PhotoDiodePatchWidth:  0.1\n",
      "PhotoDiodePatchLeft:  0.05\n",
      "PhotoDiodePatchTop:  0.935\n",
      "PhotoDiodePatchShape:  0\n",
      "PhotoDiodePatchActiveColor:  16777215\n",
      "PhotoDiodePatchInactiveColor:  0\n",
      "PhotoDiodePatchExpression:  StimulusCode>0\n",
      "KeystrokeStateName:  \n",
      "KeystrokeExpression:  \n",
      "KeystrokeExpressionOnStartRun:  \n",
      "ConnectorOutputAddress:  \n",
      "ApplicationBase/ShowAppLog:  1\n",
      "VisualizeGazeMonitorFilter:  0\n",
      "EnforceFixation:  0\n",
      "FixationX:  ['0.5']\n",
      "FixationY:  ['0.5']\n",
      "ShowFixationZone:  0\n",
      "BlinkTime:  100.0\n",
      "SaccadeTime:  100.0\n",
      "FixationRadius:  0.1\n",
      "FixationImage:  \n",
      "FixationViolationImage:  \n",
      "FixationViolationSound:  \n",
      "FixationImageSize:  0.04\n",
      "LogGazeInformation:  0\n",
      "ChangeFixation:  0\n",
      "GazeColor:  0\n",
      "EyeColor:  8421504\n",
      "VisualizeCereStim:  0\n",
      "Language:  Default\n",
      "LocalizedStrings:  [['Zeit abgelaufen!', 'Warte ...']]\n",
      "ApplicationIP:  127.0.0.1\n",
      "ApplicationPort:  62568\n",
      "ApplicationVersion:  [['3.6'], ['N/A, N/A'], ['MSVC-19.29.30137.0-AMD64, release, 2022-02-11Z, Peter@DESKTOP-HLJS49V'], ['USE_DYNAMIC_CRT:TRUE USE_OPENMP:ON USE_PRECOMPILED_HEADERS:ON USE_ASSERTS_IN_RELEASE_BUILDS:OFF'], ['2.3']]\n"
     ]
    }
   ],
   "source": [
    "for p in params.keys():\n",
    "    print(p+': ',params[p])"
   ]
  },
  {
   "cell_type": "code",
   "execution_count": 123,
   "metadata": {},
   "outputs": [
    {
     "data": {
      "text/plain": [
       "True"
      ]
     },
     "execution_count": 123,
     "metadata": {},
     "output_type": "execute_result"
    }
   ],
   "source": [
    "'instructions2' in params['Stimuli'][0]"
   ]
  },
  {
   "cell_type": "code",
   "execution_count": 13,
   "metadata": {},
   "outputs": [
    {
     "name": "stdout",
     "output_type": "stream",
     "text": [
      "KeyDown\n",
      "KeyUp\n",
      "AudioInEnvelope1\n",
      "AudioInEnvelope2\n",
      "AudioInEnvelope3\n",
      "AudioInEnvelope4\n",
      "AudioOutEnvelope1\n",
      "AudioOutEnvelope2\n",
      "AudioOutEnvelope3\n",
      "AudioOutEnvelope4\n",
      "AudioFrame\n",
      "Recording\n",
      "SourceTime\n",
      "DC01\n",
      "DC02\n",
      "DC03\n",
      "DC04\n",
      "DC05\n",
      "DC06\n",
      "DC07\n",
      "DC08\n",
      "DC09\n",
      "DC10\n",
      "DC11\n",
      "DC12\n",
      "DC13\n",
      "DC14\n",
      "DC15\n",
      "DC16\n",
      "Running\n",
      "FixationViolated\n",
      "GazeCorrectionMode\n",
      "FixationCrossVisible\n",
      "StimulusCode\n",
      "StimulusType\n",
      "StimulusBegin\n",
      "PhaseInSequence\n",
      "PauseApplication\n",
      "SelectedStimulus\n",
      "PreStimulusTime\n",
      "StimulusTime\n",
      "PresentationRequested\n",
      "PresentationDisplayed\n",
      "PresentationTime\n",
      "PresentationFrame\n",
      "AudioBufferTime\n",
      "AudioPresentationTime\n",
      "__pad0\n",
      "__pad1\n",
      "__pad2\n",
      "__pad3\n"
     ]
    }
   ],
   "source": [
    "for s in states.keys():\n",
    "    print(s)"
   ]
  }
 ],
 "metadata": {
  "kernelspec": {
   "display_name": "Python 3 (ipykernel)",
   "language": "python",
   "name": "python3"
  },
  "language_info": {
   "codemirror_mode": {
    "name": "ipython",
    "version": 3
   },
   "file_extension": ".py",
   "mimetype": "text/x-python",
   "name": "python",
   "nbconvert_exporter": "python",
   "pygments_lexer": "ipython3",
   "version": "3.10.4"
  }
 },
 "nbformat": 4,
 "nbformat_minor": 2
}
